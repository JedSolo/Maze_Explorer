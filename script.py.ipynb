{
 "cells": [
  {
   "cell_type": "code",
   "execution_count": 1,
   "id": "528d719a",
   "metadata": {},
   "outputs": [
    {
     "name": "stdout",
     "output_type": "stream",
     "text": [
      "\n",
      "MAZE LAYOUT\n",
      "\n",
      "entrance connected to...\n",
      "=> ante-chamber: cost is 7\n",
      "=> king's room: cost is 3\n",
      "\n",
      "ante-chamber connected to...\n",
      "=> entrance: cost is 7\n",
      "=> king's room: cost is 1\n",
      "=> grand_gallery: cost is 2\n",
      "=> treasure_room: cost is 6\n",
      "\n",
      "king's room connected to...\n",
      "=> entrance: cost is 3\n",
      "=> ante-chamber: cost is 1\n",
      "=> grand_gallery: cost is 2\n",
      "\n",
      "grand_gallery connected to...\n",
      "=> ante-chamber: cost is 2\n",
      "=> king's room: cost is 2\n",
      "=> treasure_room: cost is 4\n",
      "\n",
      "treasure_room connected to...\n",
      "=> ante-chamber: cost is 6\n",
      "=> grand_gallery: cost is 4\n",
      "\n",
      "\n",
      "Exploring the graph....\n",
      "\n",
      "\n",
      "Starting off at the entrance\n",
      "enter a for ante-chamber: 7 cost\n",
      "enter k for king's room: 3 cost\n",
      "You have accumulated: 0 cost\n",
      "\n",
      "Which room do you move to?a\n",
      "\n",
      "*** You have chosen: ante-chamber ***\n",
      "\n",
      "enter e for entrance: 7 cost\n",
      "enter k for king's room: 1 cost\n",
      "enter g for grand_gallery: 2 cost\n",
      "enter t for treasure_room: 6 cost\n",
      "You have accumulated: 7 cost\n",
      "\n",
      "Which room do you move to?6\n",
      "please select from these letters ['e', 'k', 'g', 't']\n",
      "enter e for entrance: 7 cost\n",
      "enter k for king's room: 1 cost\n",
      "enter g for grand_gallery: 2 cost\n",
      "enter t for treasure_room: 6 cost\n",
      "You have accumulated: 7 cost\n",
      "\n",
      "Which room do you move to?t\n",
      "\n",
      "*** You have chosen: treasure_room ***\n",
      "\n",
      "You made it to the treasure room with 13 cost\n"
     ]
    }
   ],
   "source": [
    "# import classes\n",
    "from graph import Graph, build_graph\n",
    "from vertex import Vertex\n",
    "\n",
    "excavation_site = build_graph()\n",
    "excavation_site.explore()"
   ]
  },
  {
   "cell_type": "code",
   "execution_count": null,
   "id": "3151a02c",
   "metadata": {},
   "outputs": [],
   "source": []
  }
 ],
 "metadata": {
  "kernelspec": {
   "display_name": "Python 3",
   "language": "python",
   "name": "python3"
  },
  "language_info": {
   "codemirror_mode": {
    "name": "ipython",
    "version": 3
   },
   "file_extension": ".py",
   "mimetype": "text/x-python",
   "name": "python",
   "nbconvert_exporter": "python",
   "pygments_lexer": "ipython3",
   "version": "3.8.8"
  }
 },
 "nbformat": 4,
 "nbformat_minor": 5
}
